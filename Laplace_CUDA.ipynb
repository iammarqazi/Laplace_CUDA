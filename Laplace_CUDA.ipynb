{
  "nbformat": 4,
  "nbformat_minor": 0,
  "metadata": {
    "colab": {
      "name": "Laplace_CUDA.ipynb",
      "provenance": []
    },
    "kernelspec": {
      "name": "python3",
      "display_name": "Python 3"
    },
    "language_info": {
      "name": "python"
    },
    "accelerator": "GPU"
  },
  "cells": [
    {
      "cell_type": "markdown",
      "metadata": {
        "id": "0pzDHX25KJ-b"
      },
      "source": [
        "__LAPLACE CUDA__"
      ]
    },
    {
      "cell_type": "code",
      "metadata": {
        "id": "yqx6Zm8UKI9c"
      },
      "source": [
        "import numpy as np\n",
        "import matplotlib.pyplot as plt\n",
        "from scipy.interpolate import griddata\n",
        "\n",
        "\n",
        "def plot_solution(x_star, y_star, u_star):    \n",
        "    nn = 200\n",
        "    x = np.linspace(x_star.min(), x_star.max(), nn)\n",
        "    y = np.linspace(y_star.min(), y_star.max(), nn)\n",
        "    X, Y = np.meshgrid(x,y)   \n",
        "    X_star = np.concatenate((x_star, y_star), axis=1)    \n",
        "    U_star = griddata(X_star, u_star.flatten(), (X, Y), method='linear')\n",
        "    h = plt.imshow(U_star, interpolation='nearest', cmap='jet', \n",
        "                  extent=[x_star.min(), x_star.max(), y_star.min(), y_star.max()],\n",
        "                  origin='lower', aspect='auto')    \n",
        "    return h\n",
        "\n",
        "def plot(x, y, u, title):\n",
        "  x_plot = np.reshape(x,(x.shape[0]*x.shape[1],1), order=\"F\") \n",
        "  y_plot = np.reshape(y,(x.shape[0]*x.shape[1],1), order=\"F\") \n",
        "  u_plot = np.reshape(u,(x.shape[0]*x.shape[1],1), order=\"F\") \n",
        "  fig, ax = plt.subplots()   \n",
        "  h = plot_solution(x_plot, y_plot, u_plot)   \n",
        "  fig.colorbar(h)\n",
        "  plt.xlabel('x')  \n",
        "  plt.ylabel('y')  \n",
        "  plt.title(f'{title}') \n",
        "  plt.show() "
      ],
      "execution_count": 1,
      "outputs": []
    },
    {
      "cell_type": "code",
      "metadata": {
        "colab": {
          "base_uri": "https://localhost:8080/",
          "height": 332
        },
        "id": "foAxQvisKO15",
        "outputId": "eb0593ca-46c8-4733-8282-347f55b1721c"
      },
      "source": [
        "from __future__ import division\n",
        "from numba import cuda, float32\n",
        "import numpy as np\n",
        "import math\n",
        "import time\n",
        "\n",
        "nc = 512 ; nr = 512 ; niter = 100000; \n",
        "Lx = 1.0 ; Ly = 1.0 ; \n",
        "xx = np.linspace(0,Lx,nr)\n",
        "yy = np.linspace(0,Ly,nc)\n",
        "x, y = np.meshgrid(xx,yy)\n",
        "    \n",
        "T = np.zeros((nr,nc)); \n",
        "Told = np.zeros((nr,nc));         \n",
        "\n",
        "def initialize(T):\n",
        "  for i in range(nr):\n",
        "    for j in range(nc):\n",
        "      T[i,j] = 0.0;\n",
        "\n",
        "def set_bcs(T):\n",
        "  for i in range(nr):\n",
        "    T[i,0] = 0.0\n",
        "    T[i,nr-1] = (100.0/nr)*i;\n",
        "    \n",
        "  for j in range(nc):\n",
        "    T[0,j] = 0.0\n",
        "    T[nc-1,j] = (100.0/nc)*j;\n",
        "\n",
        "@cuda.jit\n",
        "def compute(T, Told):\n",
        "  i, j = cuda.grid(2)  \n",
        "  imax, jmax = T.shape\n",
        "  if 1 <= i < imax-1 and 1 <= j < jmax-1:  \n",
        "    T[i,j]=0.25*(Told[i-1,j]+Told[i+1,j]+Told[i,j-1]+Told[i,j+1]);\n",
        "\n",
        "@cuda.jit\n",
        "def update(T, Told):  \n",
        "  i,j = cuda.grid(2)\n",
        "  Told[i,j]=T[i,j];\n",
        "\n",
        "# Configure the blocks\n",
        "threads_per_block = (32, 32)\n",
        "blockspergrid_x = int(math.ceil(T.shape[0] / threads_per_block[0]))\n",
        "blockspergrid_y = int(math.ceil(T.shape[1] / threads_per_block[1]))\n",
        "blocks_per_grid = (blockspergrid_x, blockspergrid_y)\n",
        "\n",
        "start_time = time.time();\n",
        "initialize(T);             \n",
        "set_bcs(T); \n",
        "\n",
        "for i in range(nr):\n",
        "  for j in range(nc):\n",
        "    Told[i,j] = T[i,j]        \n",
        "\n",
        "# Copy the arrays to the device\n",
        "T_global_mem = cuda.to_device(T)\n",
        "Told_global_mem = cuda.to_device(Told)\n",
        "\n",
        "for iter in range(niter):\n",
        "  compute[blocks_per_grid,threads_per_block](T_global_mem,Told_global_mem);\n",
        "  update[blocks_per_grid,threads_per_block](T_global_mem,Told_global_mem);\n",
        "\n",
        "elapsed = time.time() - start_time\n",
        "print('Computation time =  %.2f seconds'%(elapsed))\n",
        "\n",
        "T = T_global_mem.copy_to_host()\n",
        "\n",
        "plot(x, y, T, title = 'Temperature plot')"
      ],
      "execution_count": 2,
      "outputs": [
        {
          "output_type": "stream",
          "text": [
            "Computation time =  29.47 seconds\n"
          ],
          "name": "stdout"
        },
        {
          "output_type": "display_data",
          "data": {
            "image/png": "[encoded data removed]",
            "text/plain": [
              "<Figure size 432x288 with 2 Axes>"
            ]
          },
          "metadata": {
            "tags": [],
            "needs_background": "light"
          }
        }
      ]
    }
  ]
}